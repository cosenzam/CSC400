{
 "cells": [
  {
   "cell_type": "markdown",
   "id": "60f72c67-140b-42fa-8b27-a570dcaa611e",
   "metadata": {
    "tags": []
   },
   "source": [
    "## Testing Critical Database Features"
   ]
  },
  {
   "cell_type": "code",
   "execution_count": 1,
   "id": "86e3dbcd-c813-4536-b77d-1052e8a9b19e",
   "metadata": {
    "tags": []
   },
   "outputs": [],
   "source": [
    "import sys\n",
    "import os\n",
    "sys.path.append(\"C:\\\\Users\\\\carlos\\\\Projects\\\\CSC400\\\\CSC400\\\\\")\n",
    "\n",
    "from sqlalchemy.orm import sessionmaker\n",
    "#connect.py method that handles all connections, returns engine.\n",
    "from connect import db_connect \n",
    "from models import Base, User, Post, Interaction, Media, MediaCollection\n",
    "import models\n",
    "from models import insert_user, get_user, exists_user, insert_interaction, \\\n",
    "    insert_post, exists_post, get_post, get_latest_post, get_latest_posts\n",
    "\n",
    "#data base connections\n",
    "engine = db_connect()\n",
    "Session_MySQLdb = sessionmaker(engine)\n",
    "db_session = Session_MySQLdb()\n",
    "models.session = db_session\n",
    "Base.metadata.create_all(engine)"
   ]
  },
  {
   "cell_type": "markdown",
   "id": "e30987a4-e6e4-4be3-9698-1c84167c8ce7",
   "metadata": {
    "tags": []
   },
   "source": [
    "### Creating Users"
   ]
  },
  {
   "cell_type": "code",
   "execution_count": 2,
   "id": "a15abff6-6472-440f-83fc-f58558d5b844",
   "metadata": {
    "tags": []
   },
   "outputs": [
    {
     "name": "stdout",
     "output_type": "stream",
     "text": [
      "No User found.\n",
      "Creating new user with user_name: kepler.\n",
      "No User found.\n",
      "Creating new user with user_name: galileo.\n",
      "No User found.\n",
      "Creating new user with user_name: bohr.\n",
      "\n",
      "Created users kepler, galileo and bohr\n",
      "kepler unique id: 1\n",
      "galileo unique id: 2\n",
      "bohr unique id: 3\n"
     ]
    }
   ],
   "source": [
    "kepler = insert_user(\"kepler\", \"kepler@email.com\", \"password\")\n",
    "galileo = insert_user(\"galileo\", \"galileo@email.com\", \"password2\")\n",
    "bohr = insert_user(\"bohr\", \"bohr@email.com\", \"password3\")\n",
    "\n",
    "print(\"\\nCreated users \" + str(kepler.user_name) + \", \" \\\n",
    "      + str(galileo.user_name) + \" and \" + str(bohr.user_name))\n",
    "\n",
    "print(str(kepler.user_name) + \" unique id: \" + str(kepler.id) + \"\\n\" + \\\n",
    "      str(galileo.user_name) + \" unique id: \" + str(galileo.id) + \"\\n\" + \\\n",
    "      str(bohr.user_name) + \" unique id: \" + str(bohr.id)\n",
    "     )"
   ]
  },
  {
   "cell_type": "markdown",
   "id": "152b55f0-a3ef-48b7-a2a6-858a19581a63",
   "metadata": {},
   "source": [
    "### Trying to Create Existing Users"
   ]
  },
  {
   "cell_type": "code",
   "execution_count": 3,
   "id": "da050340-999f-4106-9537-2a55418cb384",
   "metadata": {
    "tags": []
   },
   "outputs": [
    {
     "name": "stdout",
     "output_type": "stream",
     "text": [
      "User kepler already exists.\n",
      "User galileo already exists.\n",
      "User bohr already exists.\n"
     ]
    }
   ],
   "source": [
    "#if user exists, returns that user object.\n",
    "kepler = insert_user(\"kepler\", \"kepler@email.com\", \"password\")\n",
    "galileo = insert_user(\"galileo\", \"galileo@email.com\", \"password2\")\n",
    "bohr = insert_user(\"bohr\", \"bohr@email.com\", \"password3\")"
   ]
  },
  {
   "cell_type": "markdown",
   "id": "30249b7a-00e7-471d-bebf-8ba90b5db8d7",
   "metadata": {},
   "source": [
    "### Updating Users"
   ]
  },
  {
   "cell_type": "code",
   "execution_count": 4,
   "id": "3b5669e6-f91c-4cac-8e4d-6dd06dfba23c",
   "metadata": {
    "tags": []
   },
   "outputs": [
    {
     "name": "stdout",
     "output_type": "stream",
     "text": [
      "before updating bio, bios are NULL\n",
      "setting column: bio to value: Johannes Kepler was a German astronomer, mathematician, \n",
      "astrologer, natural philosopher and writer on music. He is a key figure in \n",
      "the 17th-century Scientific Revolution, best known for his laws of planetary motion, \n",
      "and his books Astronomia nova, Harmonice Mundi, and Epitome Astronomiae Copernicanae. \n",
      "These works also provided one of the foundations for Newton's theory of universal \n",
      "gravitation.\n",
      "setting column: first_name to value: Johannes\n",
      "setting column: last_name to value: Kepler\n",
      "setting column: date_of_birth to value: 12/27/1571\n",
      "full name: Johannes Kepler\n",
      "\n",
      "user created: 2023-03-30 03:12:36.540412\n",
      "user updated: 2023-03-30 03:12:49.612940\n"
     ]
    }
   ],
   "source": [
    "kepler_bio = \"\"\"Johannes Kepler was a German astronomer, mathematician, \n",
    "astrologer, natural philosopher and writer on music. He is a key figure in \n",
    "the 17th-century Scientific Revolution, best known for his laws of planetary motion, \n",
    "and his books Astronomia nova, Harmonice Mundi, and Epitome Astronomiae Copernicanae. \n",
    "These works also provided one of the foundations for Newton's theory of universal \n",
    "gravitation.\"\"\"\n",
    "\n",
    "print(f\"before updating bio, bios are {kepler.bio}\")\n",
    "\n",
    "#updating fields with built in method\n",
    "kepler.update(bio=kepler_bio, \n",
    "              first_name=\"Johannes\", \n",
    "              last_name=\"Kepler\",\n",
    "              date_of_birth=\"12/27/1571\")\n",
    "\n",
    "print(\"full name: \" + kepler.first_name + \" \" + kepler.last_name + \"\\n\")\n",
    "print(\"user created: \" + str(kepler.date_created) + \"\\n\" \\\n",
    "      \"user updated: \" + str(kepler.last_updated))"
   ]
  },
  {
   "cell_type": "markdown",
   "id": "1c4d685f-8a30-41d8-a141-346cb80d63a7",
   "metadata": {
    "tags": []
   },
   "source": [
    "### Posting"
   ]
  },
  {
   "cell_type": "code",
   "execution_count": 5,
   "id": "c953e760-32f0-4c3f-95a8-e2a356b0a36e",
   "metadata": {
    "tags": []
   },
   "outputs": [
    {
     "data": {
      "text/plain": [
       "<models.Post at 0x2a95cee0910>"
      ]
     },
     "execution_count": 5,
     "metadata": {},
     "output_type": "execute_result"
    }
   ],
   "source": [
    "#using insert_post method, requires user object\n",
    "post_kepler_1 = insert_post(kepler, \"first post! just saw a supernova lol\")\n",
    "\n",
    "post_galileo_1 = insert_post(galileo, \"first of all, the earth revolves around the sun.\")\n",
    "\n",
    "#using class method in the user object\n",
    "post_kepler_2 = kepler.post(\"second post, Magini is being really annoying.\")\n",
    "\n",
    "#replying to a post\n",
    "reply_galileo_1 = post_kepler_2.insert_reply(galileo, \"never liked him.\")\n",
    "\n",
    "kepler.post(\"trying some new things lately.\")\n",
    "\n",
    "kepler.post(\"love my mustache!\")\n",
    "\n",
    "galileo.post(\"posting sometimes about the sun.\")\n",
    "\n",
    "galileo.post(\"this will be my last post.\")"
   ]
  },
  {
   "cell_type": "markdown",
   "id": "21d4227b-c333-4fdd-95fa-2be90f430687",
   "metadata": {
    "tags": []
   },
   "source": [
    "#### Getting posts from users"
   ]
  },
  {
   "cell_type": "code",
   "execution_count": 6,
   "id": "872fcf1c-0a47-44c5-aaf9-b846e27ac543",
   "metadata": {
    "tags": []
   },
   "outputs": [
    {
     "name": "stdout",
     "output_type": "stream",
     "text": [
      "text: love my mustache! time: 2023-03-30 03:12:54.380137\n",
      "text: trying some new things lately. time: 2023-03-30 03:12:54.373328\n",
      "text: second post, Magini is being really annoying. time: 2023-03-30 03:12:54.351772\n",
      "text: first post! just saw a supernova lol time: 2023-03-30 03:12:54.324733\n",
      "\n",
      "\n",
      "text: posting sometimes about the sun. time: 2023-03-30 03:12:54.380137\n",
      "text: this will be my last post. time: 2023-03-30 03:12:54.380137\n",
      "text: first of all, the earth revolves around the sun. time: 2023-03-30 03:12:54.343358\n",
      "text: never liked him. time: 2023-03-30 03:12:36.540412\n"
     ]
    }
   ],
   "source": [
    "#user object contains list of all posts by that user, \n",
    "#using sqlalchemy orm relationships.\n",
    "for post in kepler.posts:\n",
    "    print(\"text: \" + str(post.text) + \" time: \" + str(post.timestamp))\n",
    "print(\"\\n\")\n",
    "for post in galileo.posts:\n",
    "    print(\"text: \" + str(post.text) + \" time: \" + str(post.timestamp))"
   ]
  },
  {
   "cell_type": "code",
   "execution_count": 7,
   "id": "f571d1e4-8884-4f3a-b1da-4711f2d1099c",
   "metadata": {},
   "outputs": [
    {
     "name": "stdout",
     "output_type": "stream",
     "text": [
      "text: love my mustache! time: 2023-03-30 03:12:54.380137\n",
      "text: trying some new things lately. time: 2023-03-30 03:12:54.373328\n",
      "text: second post, Magini is being really annoying. time: 2023-03-30 03:12:54.351772\n",
      "text: first post! just saw a supernova lol time: 2023-03-30 03:12:54.324733\n",
      "\n",
      "\n",
      "text: posting sometimes about the sun. time: 2023-03-30 03:12:54.380137\n",
      "text: this will be my last post. time: 2023-03-30 03:12:54.380137\n",
      "text: first of all, the earth revolves around the sun. time: 2023-03-30 03:12:54.343358\n"
     ]
    }
   ],
   "source": [
    "#get_latest_posts excludes replies\n",
    "posts_ = get_latest_posts(kepler, 4)\n",
    "\n",
    "for post in posts_:\n",
    "    print(\"text: \" + str(post.text) + \" time: \" + str(post.timestamp))\n",
    "\n",
    "print(\"\\n\")\n",
    "posts_ = models.get_latest_posts(galileo, 4)\n",
    "\n",
    "for post in posts_:\n",
    "    print(\"text: \" + str(post.text) + \" time: \" + str(post.timestamp))"
   ]
  },
  {
   "cell_type": "markdown",
   "id": "842e9c68-2c2f-4174-8156-e130f67e80c8",
   "metadata": {},
   "source": [
    "#### Liking Posts"
   ]
  },
  {
   "cell_type": "code",
   "execution_count": 8,
   "id": "3d1d36bd-d622-4da7-987e-0303081b01a6",
   "metadata": {
    "tags": []
   },
   "outputs": [
    {
     "name": "stdout",
     "output_type": "stream",
     "text": [
      "text of post: posting sometimes about the sun.\n",
      "galileo likes his own post.\n",
      "like count: 1\n",
      "bohr likes the post.\n",
      "like count: 2\n",
      "kepler likes the post.\n",
      "like count: 3\n"
     ]
    }
   ],
   "source": [
    "#get latest post of a user\n",
    "post_to_be_liked = get_latest_post(galileo)\n",
    "\n",
    "print(\"text of post: \" + str(post_to_be_liked.text))\n",
    "\n",
    "print(\"galileo likes his own post.\")\n",
    "\n",
    "post_to_be_liked.like(galileo)\n",
    "\n",
    "print(\"like count: \" + str(post_to_be_liked.like_count))\n",
    "\n",
    "print(\"bohr likes the post.\")\n",
    "post_to_be_liked.like(bohr)\n",
    "\n",
    "print(\"like count: \" + str(post_to_be_liked.like_count))\n",
    "\n",
    "print(\"kepler likes the post.\")\n",
    "post_to_be_liked.like(kepler)\n",
    "\n",
    "print(\"like count: \" + str(post_to_be_liked.like_count))"
   ]
  },
  {
   "cell_type": "code",
   "execution_count": null,
   "id": "9b2e065d-55bd-4284-9153-9c6bcc8f9a8f",
   "metadata": {},
   "outputs": [],
   "source": []
  }
 ],
 "metadata": {
  "kernelspec": {
   "display_name": "Python 3 (ipykernel)",
   "language": "python",
   "name": "python3"
  },
  "language_info": {
   "codemirror_mode": {
    "name": "ipython",
    "version": 3
   },
   "file_extension": ".py",
   "mimetype": "text/x-python",
   "name": "python",
   "nbconvert_exporter": "python",
   "pygments_lexer": "ipython3",
   "version": "3.9.16"
  }
 },
 "nbformat": 4,
 "nbformat_minor": 5
}
